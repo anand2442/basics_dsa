{
 "cells": [
  {
   "cell_type": "code",
   "execution_count": 1,
   "id": "bf12b3db-6781-42f6-b744-b92a32780d71",
   "metadata": {},
   "outputs": [],
   "source": [
    "class Stack:\n",
    "    def __init__(self, max_size=100):\n",
    "        self.stack = []\n",
    "        self.max_size = max_size\n",
    "\n",
    "    def push(self, item):\n",
    "        if self.is_full():\n",
    "            print(\"Stack is full!\")\n",
    "            return\n",
    "        self.stack.append(item)\n",
    "\n",
    "    def pop(self):\n",
    "        if self.is_empty():\n",
    "            print(\"Stack is empty!\")\n",
    "            return None\n",
    "        return self.stack.pop()\n",
    "\n",
    "    def peek(self):\n",
    "        if self.is_empty():\n",
    "            return None\n",
    "        return self.stack[-1]\n",
    "\n",
    "    def is_full(self):\n",
    "        return len(self.stack) == self.max_size\n",
    "\n",
    "    def is_empty(self):\n",
    "        return len(self.stack) == 0\n"
   ]
  },
  {
   "cell_type": "code",
   "execution_count": 2,
   "id": "19e4bdc1-022c-4f2a-898c-3e279a7a4f40",
   "metadata": {},
   "outputs": [],
   "source": [
    "def reverse_myname(name):\n",
    "    stack = Stack(len(name))\n",
    "    for ch in name:\n",
    "        stack.push(ch)\n",
    "    \n",
    "    reversed_name = ''\n",
    "    while not stack.is_empty():\n",
    "        reversed_name += stack.pop()\n",
    "    \n",
    "    return reversed_name\n"
   ]
  },
  {
   "cell_type": "code",
   "execution_count": 3,
   "id": "8b1bb745-7101-4ebd-9357-96e86e9ae7c7",
   "metadata": {},
   "outputs": [
    {
     "name": "stdout",
     "output_type": "stream",
     "text": [
      "Original Name: Anand\n",
      "Reversed Name: dnanA\n"
     ]
    }
   ],
   "source": [
    "my_name = \"Anand\"  # Replace with your full name\n",
    "print(\"Original Name:\", my_name)\n",
    "print(\"Reversed Name:\", reverse_myname(my_name))\n"
   ]
  },
  {
   "cell_type": "code",
   "execution_count": 4,
   "id": "2df2c8ef-83d4-4581-b574-ba3be1720e82",
   "metadata": {},
   "outputs": [],
   "source": [
    "def isit_balanced(s):\n",
    "    stack = Stack(len(s))\n",
    "    opening = \"({[\"\n",
    "    closing = \")}]\"\n",
    "    pair = {')': '(', '}': '{', ']': '['}\n",
    "\n",
    "    for ch in s:\n",
    "        if ch in opening:\n",
    "            stack.push(ch)\n",
    "        elif ch in closing:\n",
    "            if stack.is_empty() or stack.pop() != pair[ch]:\n",
    "                return False\n",
    "\n",
    "    return stack.is_empty()"
   ]
  },
  {
   "cell_type": "code",
   "execution_count": null,
   "id": "bae42a2d-bec8-4382-ba9b-654aae9b3dbd",
   "metadata": {},
   "outputs": [],
   "source": [
    "expr1 = \"{[()]}\"\n",
    "expr2 = \"((())\"\n",
    "expr3 = \"[{()}([])]\"\n",
    "expr4 = \"[(])\"\n",
    "\n",
    "print(f\"{expr1} is balanced? {isit_balanced(expr1)}\")\n",
    "print(f\"{expr2} is balanced? {isit_balanced(expr2)}\")\n",
    "print(f\"{expr3} is balanced? {isit_balanced(expr3)}\")\n",
    "print(f\"{expr4} is balanced? {isit_balanced(expr4)}\")\n"
   ]
  }
 ],
 "metadata": {
  "kernelspec": {
   "display_name": "Python 3 (ipykernel)",
   "language": "python",
   "name": "python3"
  },
  "language_info": {
   "codemirror_mode": {
    "name": "ipython",
    "version": 3
   },
   "file_extension": ".py",
   "mimetype": "text/x-python",
   "name": "python",
   "nbconvert_exporter": "python",
   "pygments_lexer": "ipython3",
   "version": "3.12.8"
  }
 },
 "nbformat": 4,
 "nbformat_minor": 5
}
