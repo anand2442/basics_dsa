{
 "cells": [
  {
   "cell_type": "code",
   "execution_count": 1,
   "id": "d53548d3-35d4-4311-825a-3ec1d4f91ea7",
   "metadata": {},
   "outputs": [],
   "source": [
    "class Deque:\n",
    "    def __init__(self, max_size=6):\n",
    "        self.deque = []\n",
    "        self.max_size = max_size\n",
    "\n",
    "    def insert_front(self, item):\n",
    "        if self.is_full():\n",
    "            print(\"Overflow: Cannot insert, deque is full.\")\n",
    "            return\n",
    "        self.deque.insert(0, item)\n",
    "        print(f\"Inserted at front: {item}\")\n",
    "\n",
    "    def delete_rear(self):\n",
    "        if self.is_empty():\n",
    "            print(\"Underflow: Cannot delete, deque is empty.\")\n",
    "            return\n",
    "        removed = self.deque.pop()\n",
    "        print(f\"Deleted from rear: {removed}\")\n",
    "\n",
    "    def is_full(self):\n",
    "        return len(self.deque) == self.max_size\n",
    "\n",
    "    def is_empty(self):\n",
    "        return len(self.deque) == 0\n",
    "\n",
    "    def display(self):\n",
    "        print(\"Deque contents:\", self.deque)\n"
   ]
  },
  {
   "cell_type": "code",
   "execution_count": 2,
   "id": "da312a8f-4d58-4bff-9cb6-d0a186acf3a7",
   "metadata": {},
   "outputs": [
    {
     "name": "stdout",
     "output_type": "stream",
     "text": [
      "Inserted at front: A\n",
      "Inserted at front: B\n",
      "Inserted at front: C\n",
      "Inserted at front: D\n",
      "Inserted at front: E\n",
      "Inserted at front: F\n",
      "Deque contents: ['F', 'E', 'D', 'C', 'B', 'A']\n",
      "Overflow: Cannot insert, deque is full.\n"
     ]
    }
   ],
   "source": [
    "# Create a deque with max size 6\n",
    "dq = Deque(max_size=6)\n",
    "\n",
    "# Insert elements at front\n",
    "dq.insert_front(\"A\")\n",
    "dq.insert_front(\"B\")\n",
    "dq.insert_front(\"C\")\n",
    "dq.insert_front(\"D\")\n",
    "dq.insert_front(\"E\")\n",
    "dq.insert_front(\"F\")  # Should fill the deque\n",
    "\n",
    "dq.display()\n",
    "\n",
    "# Try inserting one more to check overflow\n",
    "dq.insert_front(\"G\")  # Should show overflow message"
   ]
  },
  {
   "cell_type": "code",
   "execution_count": 3,
   "id": "c493f090-cb92-4117-bb0e-a2ddd634e3dc",
   "metadata": {},
   "outputs": [
    {
     "name": "stdout",
     "output_type": "stream",
     "text": [
      "Deleted from rear: A\n",
      "Deque contents: ['F', 'E', 'D', 'C', 'B']\n"
     ]
    }
   ],
   "source": [
    "# Delete one item from rear\n",
    "dq.delete_rear()\n",
    "\n",
    "# Display current deque\n",
    "dq.display()"
   ]
  },
  {
   "cell_type": "code",
   "execution_count": 4,
   "id": "8a6cf24a-f74e-4b65-924f-2c7fd9a6a566",
   "metadata": {},
   "outputs": [
    {
     "name": "stdout",
     "output_type": "stream",
     "text": [
      "Deleted from rear: B\n",
      "Deleted from rear: C\n",
      "Deleted from rear: D\n",
      "Deleted from rear: E\n",
      "Deleted from rear: F\n",
      "Underflow: Cannot delete, deque is empty.\n",
      "Deque contents: []\n"
     ]
    }
   ],
   "source": [
    "# Keep deleting from rear to test underflow\n",
    "dq.delete_rear()\n",
    "dq.delete_rear()\n",
    "dq.delete_rear()\n",
    "dq.delete_rear()\n",
    "dq.delete_rear()\n",
    "\n",
    "# Now deque should be empty\n",
    "dq.delete_rear()  # Should show underflow message\n",
    "\n",
    "dq.display()"
   ]
  },
  {
   "cell_type": "code",
   "execution_count": null,
   "id": "bdf032be-9a66-467f-9a4b-b63f7e1a5595",
   "metadata": {},
   "outputs": [],
   "source": []
  },
  {
   "cell_type": "code",
   "execution_count": null,
   "id": "c5821943-4229-42d3-a112-df8c11857678",
   "metadata": {},
   "outputs": [],
   "source": []
  }
 ],
 "metadata": {
  "kernelspec": {
   "display_name": "Python 3 (ipykernel)",
   "language": "python",
   "name": "python3"
  },
  "language_info": {
   "codemirror_mode": {
    "name": "ipython",
    "version": 3
   },
   "file_extension": ".py",
   "mimetype": "text/x-python",
   "name": "python",
   "nbconvert_exporter": "python",
   "pygments_lexer": "ipython3",
   "version": "3.12.8"
  }
 },
 "nbformat": 4,
 "nbformat_minor": 5
}
