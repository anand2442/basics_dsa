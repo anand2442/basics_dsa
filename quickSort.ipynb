{
 "cells": [
  {
   "cell_type": "code",
   "execution_count": 1,
   "id": "41e69e03-15cd-4913-b36a-002fef5572a0",
   "metadata": {},
   "outputs": [],
   "source": [
    "def quick_sort(arr):\n",
    "    if len(arr) <= 1:\n",
    "        return arr\n",
    "    else:\n",
    "        pivot = arr[-1]  # choosing last element as pivot\n",
    "        left = [x for x in arr[:-1] if x <= pivot]\n",
    "        right = [x for x in arr[:-1] if x > pivot]\n",
    "        return quick_sort(left) + [pivot] + quick_sort(right)\n"
   ]
  },
  {
   "cell_type": "code",
   "execution_count": 2,
   "id": "5ed26c7c-92f0-4f32-918f-44ddef3bd712",
   "metadata": {},
   "outputs": [
    {
     "name": "stdout",
     "output_type": "stream",
     "text": [
      "Original array: [18, 1, 69, 64, 16, 46, 32, 80, 68, 24]\n",
      "Sorted array: [1, 16, 18, 24, 32, 46, 64, 68, 69, 80]\n"
     ]
    }
   ],
   "source": [
    "import random\n",
    "\n",
    "test_arr = random.sample(range(1, 101), 10)  # 10 unique random integers between 1 and 100\n",
    "print(\"Original array:\", test_arr)\n",
    "\n",
    "sorted_arr = quick_sort(test_arr)\n",
    "print(\"Sorted array:\", sorted_arr)"
   ]
  },
  {
   "cell_type": "code",
   "execution_count": 3,
   "id": "e9d9b9dc-62cd-4821-9ef9-a5df17bf5597",
   "metadata": {},
   "outputs": [
    {
     "name": "stdout",
     "output_type": "stream",
     "text": [
      "Time taken by quick_sort: 0.001000 seconds\n"
     ]
    }
   ],
   "source": [
    "import time\n",
    "\n",
    "start_time = time.time()\n",
    "_ = quick_sort(test_arr)\n",
    "end_time = time.time()\n",
    "\n",
    "print(f\"Time taken by quick_sort: {end_time - start_time:.6f} seconds\")"
   ]
  },
  {
   "cell_type": "code",
   "execution_count": null,
   "id": "7f64d7cc-9621-458b-9b71-6ae492ecc930",
   "metadata": {},
   "outputs": [],
   "source": []
  },
  {
   "cell_type": "code",
   "execution_count": null,
   "id": "54b65896-97b7-45c0-9e80-db8067b1cdf4",
   "metadata": {},
   "outputs": [],
   "source": []
  }
 ],
 "metadata": {
  "kernelspec": {
   "display_name": "Python 3 (ipykernel)",
   "language": "python",
   "name": "python3"
  },
  "language_info": {
   "codemirror_mode": {
    "name": "ipython",
    "version": 3
   },
   "file_extension": ".py",
   "mimetype": "text/x-python",
   "name": "python",
   "nbconvert_exporter": "python",
   "pygments_lexer": "ipython3",
   "version": "3.12.8"
  }
 },
 "nbformat": 4,
 "nbformat_minor": 5
}
