{
 "cells": [
  {
   "cell_type": "code",
   "execution_count": 1,
   "id": "09a0c346-cac0-4537-961b-5ab98d40ba9e",
   "metadata": {},
   "outputs": [
    {
     "name": "stdout",
     "output_type": "stream",
     "text": [
      "Node data: Test\n"
     ]
    }
   ],
   "source": [
    "# Snippet 1: Define Node class\n",
    "class Node:\n",
    "    def __init__(self, data):\n",
    "        self.data = data\n",
    "        self.next = None\n",
    "        self.prev = None\n",
    "\n",
    "# Usage Example: Create a Node and check data\n",
    "node = Node(\"Test\")\n",
    "print(\"Node data:\", node.data)  # Output: Test\n"
   ]
  },
  {
   "cell_type": "code",
   "execution_count": 2,
   "id": "9214999e-2f3b-484e-80d0-33acaf411226",
   "metadata": {},
   "outputs": [
    {
     "name": "stdout",
     "output_type": "stream",
     "text": [
      "Inserted values: Red, Yellow, Purple, Orange\n"
     ]
    }
   ],
   "source": [
    "# Snippet 2: Define LinkedList class with constructor and insert_values method\n",
    "class LinkedList:\n",
    "    def __init__(self):\n",
    "        self.head = None\n",
    "    \n",
    "    def insert_values(self, data_list):\n",
    "        for data in data_list:\n",
    "            self.insert_end(data)\n",
    "    \n",
    "    def insert_end(self, data):\n",
    "        new_node = Node(data)\n",
    "        if self.head is None:\n",
    "            new_node.next = new_node.prev = new_node\n",
    "            self.head = new_node\n",
    "            return\n",
    "        last = self.head.prev\n",
    "        last.next = new_node\n",
    "        new_node.prev = last\n",
    "        new_node.next = self.head\n",
    "        self.head.prev = new_node\n",
    "\n",
    "# Usage Example: Create list and insert initial values\n",
    "LL = LinkedList()\n",
    "LL.insert_values([\"Red\", \"Yellow\", \"Purple\", \"Orange\"])\n",
    "print(\"Inserted values: Red, Yellow, Purple, Orange\")\n"
   ]
  },
  {
   "cell_type": "code",
   "execution_count": 3,
   "id": "a6c3763c-65eb-4e34-8bb9-f93423b679d8",
   "metadata": {},
   "outputs": [
    {
     "name": "stdout",
     "output_type": "stream",
     "text": [
      "Print list:\n",
      "Red Yellow Purple Orange \n"
     ]
    }
   ],
   "source": [
    "# Snippet 3: Define print method (prints forward)\n",
    "def print_list(self):\n",
    "    if self.head is None:\n",
    "        print(\"List is empty\")\n",
    "        return\n",
    "    current = self.head\n",
    "    while True:\n",
    "        print(current.data, end=\" \")\n",
    "        current = current.next\n",
    "        if current == self.head:\n",
    "            break\n",
    "    print()\n",
    "\n",
    "LinkedList.print = print_list\n",
    "\n",
    "# Usage Example: Print the current list\n",
    "print(\"Print list:\")\n",
    "LL.print()\n"
   ]
  },
  {
   "cell_type": "code",
   "execution_count": 4,
   "id": "1eb69447-26d5-43f6-b506-11748fe10802",
   "metadata": {},
   "outputs": [
    {
     "name": "stdout",
     "output_type": "stream",
     "text": [
      "After inserting 'Blue' after 'Yellow':\n",
      "Red Yellow Blue Purple Orange \n"
     ]
    }
   ],
   "source": [
    "# Snippet 4: Define insert_after_value method\n",
    "def insert_after_value(self, data_after, data_to_insert):\n",
    "    if self.head is None:\n",
    "        print(\"List is empty\")\n",
    "        return\n",
    "    \n",
    "    current = self.head\n",
    "    while True:\n",
    "        if current.data == data_after:\n",
    "            new_node = Node(data_to_insert)\n",
    "            new_node.next = current.next\n",
    "            new_node.prev = current\n",
    "            current.next.prev = new_node\n",
    "            current.next = new_node\n",
    "            return\n",
    "        current = current.next\n",
    "        if current == self.head:\n",
    "            print(f\"{data_after} not found in the list.\")\n",
    "            break\n",
    "\n",
    "LinkedList.insert_after_value = insert_after_value\n",
    "\n",
    "# Usage Example: Insert 'Blue' after 'Yellow' and print\n",
    "LL.insert_after_value(\"Yellow\", \"Blue\")\n",
    "print(\"After inserting 'Blue' after 'Yellow':\")\n",
    "LL.print()\n"
   ]
  },
  {
   "cell_type": "code",
   "execution_count": 5,
   "id": "005b64b1-be9c-4605-a4c8-b147f429202e",
   "metadata": {},
   "outputs": [
    {
     "name": "stdout",
     "output_type": "stream",
     "text": [
      "After removing 'Orange':\n",
      "Red Yellow Blue Purple \n",
      "Green not found in the list.\n",
      "After trying to remove 'Green' (not in list):\n",
      "Red Yellow Blue Purple \n"
     ]
    }
   ],
   "source": [
    "# Snippet 5: Define remove_by_value method\n",
    "def remove_by_value(self, data):\n",
    "    if self.head is None:\n",
    "        print(\"List is empty\")\n",
    "        return\n",
    "    \n",
    "    current = self.head\n",
    "    found = False\n",
    "    \n",
    "    while True:\n",
    "        if current.data == data:\n",
    "            found = True\n",
    "            # Only one node case\n",
    "            if current.next == current and current.prev == current:\n",
    "                self.head = None\n",
    "                return\n",
    "            \n",
    "            # Remove current node\n",
    "            current.prev.next = current.next\n",
    "            current.next.prev = current.prev\n",
    "            \n",
    "            # If head is to be removed\n",
    "            if current == self.head:\n",
    "                self.head = current.next\n",
    "            \n",
    "            return\n",
    "        \n",
    "        current = current.next\n",
    "        if current == self.head:\n",
    "            break\n",
    "    \n",
    "    if not found:\n",
    "        print(f\"{data} not found in the list.\")\n",
    "\n",
    "LinkedList.remove_by_value = remove_by_value\n",
    "\n",
    "# Usage Example: Remove 'Orange', then print\n",
    "LL.remove_by_value(\"Orange\")\n",
    "print(\"After removing 'Orange':\")\n",
    "LL.print()\n",
    "\n",
    "# Remove a non-existing element 'Green'\n",
    "LL.remove_by_value(\"Green\")\n",
    "print(\"After trying to remove 'Green' (not in list):\")\n",
    "LL.print()\n"
   ]
  },
  {
   "cell_type": "code",
   "execution_count": 6,
   "id": "b61e8d72-d2ce-404c-82b9-bd2e0da00292",
   "metadata": {},
   "outputs": [
    {
     "name": "stdout",
     "output_type": "stream",
     "text": [
      "Print forward:\n",
      "Red Yellow Blue Purple \n"
     ]
    }
   ],
   "source": [
    "# Snippet 6: Define print_forward method (same as print)\n",
    "def print_forward(self):\n",
    "    self.print()\n",
    "\n",
    "LinkedList.print_forward = print_forward\n",
    "\n",
    "# Usage Example: Print forward\n",
    "print(\"Print forward:\")\n",
    "LL.print_forward()\n"
   ]
  },
  {
   "cell_type": "code",
   "execution_count": 7,
   "id": "72c1ab0f-d1e2-4269-92cd-acb459b5faa6",
   "metadata": {},
   "outputs": [
    {
     "name": "stdout",
     "output_type": "stream",
     "text": [
      "Print backward:\n",
      "Purple \n"
     ]
    }
   ],
   "source": [
    "# Snippet 7: Define print_backward method\n",
    "def print_backward(self):\n",
    "    if self.head is None:\n",
    "        print(\"List is empty\")\n",
    "        return\n",
    "    current = self.head.prev  # Start from last node\n",
    "    while True:\n",
    "        print(current.data, end=\" \")\n",
    "        current = current.prev\n",
    "        if current.next == self.head.prev:\n",
    "            break\n",
    "    print()\n",
    "\n",
    "LinkedList.print_backward = print_backward\n",
    "\n",
    "# Usage Example: Print backward\n",
    "print(\"Print backward:\")\n",
    "LL.print_backward()\n"
   ]
  },
  {
   "cell_type": "code",
   "execution_count": 8,
   "id": "999c3926-19cd-4a0f-9fda-bc99818e5440",
   "metadata": {},
   "outputs": [
    {
     "name": "stdout",
     "output_type": "stream",
     "text": [
      "After removing all elements:\n",
      "List is empty\n",
      "Print forward on empty list:\n",
      "List is empty\n",
      "Print backward on empty list:\n",
      "List is empty\n"
     ]
    }
   ],
   "source": [
    "# Final Usage: Remove all elements and print empty list\n",
    "LL.remove_by_value(\"Red\")\n",
    "LL.remove_by_value(\"Yellow\")\n",
    "LL.remove_by_value(\"Blue\")\n",
    "LL.remove_by_value(\"Purple\")\n",
    "print(\"After removing all elements:\")\n",
    "LL.print()\n",
    "\n",
    "print(\"Print forward on empty list:\")\n",
    "LL.print_forward()\n",
    "\n",
    "print(\"Print backward on empty list:\")\n",
    "LL.print_backward()\n"
   ]
  },
  {
   "cell_type": "code",
   "execution_count": null,
   "id": "77dc71de-d062-4db5-bf6f-92b1ef7a51a7",
   "metadata": {},
   "outputs": [],
   "source": []
  },
  {
   "cell_type": "code",
   "execution_count": null,
   "id": "52aa297a-73d2-45a1-a3fe-76b6c258e89d",
   "metadata": {},
   "outputs": [],
   "source": []
  }
 ],
 "metadata": {
  "kernelspec": {
   "display_name": "Python 3 (ipykernel)",
   "language": "python",
   "name": "python3"
  },
  "language_info": {
   "codemirror_mode": {
    "name": "ipython",
    "version": 3
   },
   "file_extension": ".py",
   "mimetype": "text/x-python",
   "name": "python",
   "nbconvert_exporter": "python",
   "pygments_lexer": "ipython3",
   "version": "3.12.8"
  }
 },
 "nbformat": 4,
 "nbformat_minor": 5
}
