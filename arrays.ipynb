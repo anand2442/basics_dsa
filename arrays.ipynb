{
 "cells": [
  {
   "cell_type": "code",
   "execution_count": 1,
   "id": "7bd95904-07bc-447b-96e8-3fac5a88827e",
   "metadata": {},
   "outputs": [
    {
     "name": "stdout",
     "output_type": "stream",
     "text": [
      "Sports list:\n",
      "Roger Federer\n",
      "Serena Williams\n",
      "Lionel Messi\n",
      "Usain Bolt\n",
      "Michael Phelps\n",
      "Length: 5\n"
     ]
    }
   ],
   "source": [
    "# Snippet 1: Initialize array and insert 5 sportspersons, print length\n",
    "\n",
    "capacity = 15\n",
    "sports = [None] * capacity\n",
    "size = 0\n",
    "\n",
    "def insertAtLast(arr, ele):\n",
    "    global size\n",
    "    if size < capacity:\n",
    "        arr[size] = ele\n",
    "        size += 1\n",
    "\n",
    "# Insert 5 sportspersons\n",
    "for sp in [\"Roger Federer\", \"Serena Williams\", \"Lionel Messi\", \"Usain Bolt\", \"Michael Phelps\"]:\n",
    "    insertAtLast(sports, sp)\n",
    "\n",
    "print(\"Sports list:\")\n",
    "for i in range(size):\n",
    "    print(sports[i])\n",
    "print(\"Length:\", size)\n"
   ]
  },
  {
   "cell_type": "code",
   "execution_count": 2,
   "id": "78ecebf1-1e16-40ab-bc0a-85c51de44885",
   "metadata": {},
   "outputs": [
    {
     "name": "stdout",
     "output_type": "stream",
     "text": [
      "\n",
      "After adding sixth sportsperson:\n",
      "Roger Federer\n",
      "Serena Williams\n",
      "Lionel Messi\n",
      "Usain Bolt\n",
      "Michael Phelps\n",
      "Simone Biles\n"
     ]
    }
   ],
   "source": [
    "# Snippet 2: Add sixth sportsperson at the end and print list\n",
    "\n",
    "def insertAtLast(arr, ele):\n",
    "    global size\n",
    "    if size < capacity:\n",
    "        arr[size] = ele\n",
    "        size += 1\n",
    "\n",
    "insertAtLast(sports, \"Simone Biles\")\n",
    "\n",
    "print(\"\\nAfter adding sixth sportsperson:\")\n",
    "for i in range(size):\n",
    "    print(sports[i])"
   ]
  },
  {
   "cell_type": "code",
   "execution_count": 3,
   "id": "ff3eaf9c-07b4-4c2f-add4-df0ff5c595cc",
   "metadata": {},
   "outputs": [
    {
     "name": "stdout",
     "output_type": "stream",
     "text": [
      "\n",
      "After moving sixth sportsperson after second:\n",
      "Roger Federer\n",
      "Serena Williams\n",
      "Simone Biles\n",
      "Lionel Messi\n",
      "Usain Bolt\n",
      "Michael Phelps\n"
     ]
    }
   ],
   "source": [
    "# Snippet 3: Remove sixth sportsperson and insert after second position\n",
    "\n",
    "def insertAtIndex(arr, index, ele):\n",
    "    global size\n",
    "    if size >= capacity:\n",
    "        print(\"Array overflow\")\n",
    "        return\n",
    "    if index > size:\n",
    "        index = size\n",
    "    for i in range(size, index, -1):\n",
    "        arr[i] = arr[i-1]\n",
    "    arr[index] = ele\n",
    "    size += 1\n",
    "\n",
    "def deleteAtIndex(arr, index):\n",
    "    global size\n",
    "    if size == 0:\n",
    "        print(\"Array underflow\")\n",
    "        return\n",
    "    if index >= size or index < 0:\n",
    "        print(\"Invalid index\")\n",
    "        return\n",
    "    for i in range(index, size - 1):\n",
    "        arr[i] = arr[i + 1]\n",
    "    arr[size - 1] = None\n",
    "    size -= 1\n",
    "\n",
    "# Remove last (sixth sportsperson)\n",
    "deleteAtIndex(sports, size - 1)\n",
    "\n",
    "# Insert \"Simone Biles\" after second (index 2)\n",
    "insertAtIndex(sports, 2, \"Simone Biles\")\n",
    "\n",
    "print(\"\\nAfter moving sixth sportsperson after second:\")\n",
    "for i in range(size):\n",
    "    print(sports[i])\n"
   ]
  },
  {
   "cell_type": "code",
   "execution_count": 4,
   "id": "5ab1af33-067d-46c7-b6b0-c4fc6cd16778",
   "metadata": {},
   "outputs": [
    {
     "name": "stdout",
     "output_type": "stream",
     "text": [
      "\n",
      "After replacing disliked sportspersons:\n",
      "Roger Federer\n",
      "Serena Williams\n",
      "Simone Biles\n",
      "Usain Bolt\n",
      "Novak Djokovic\n",
      "Katie Ledecky\n"
     ]
    }
   ],
   "source": [
    "# Snippet 4: Remove two disliked sportspersons and add two new ones\n",
    "\n",
    "def searchByValue(arr, val):\n",
    "    for i in range(size):\n",
    "        if arr[i] == val:\n",
    "            return i\n",
    "    return -1\n",
    "\n",
    "# Remove disliked sportspersons\n",
    "disliked = [\"Lionel Messi\", \"Michael Phelps\"]\n",
    "for sp in disliked:\n",
    "    idx = searchByValue(sports, sp)\n",
    "    if idx != -1:\n",
    "        deleteAtIndex(sports, idx)\n",
    "\n",
    "# Add two new sportspersons\n",
    "insertAtLast(sports, \"Novak Djokovic\")\n",
    "insertAtLast(sports, \"Katie Ledecky\")\n",
    "\n",
    "print(\"\\nAfter replacing disliked sportspersons:\")\n",
    "for i in range(size):\n",
    "    print(sports[i])"
   ]
  },
  {
   "cell_type": "code",
   "execution_count": 5,
   "id": "5b3b4f94-7e72-4b21-8e25-cb2c86473749",
   "metadata": {},
   "outputs": [
    {
     "name": "stdout",
     "output_type": "stream",
     "text": [
      "\n",
      "After sorting sportspersons alphabetically:\n",
      "Katie Ledecky\n",
      "Novak Djokovic\n",
      "Roger Federer\n",
      "Serena Williams\n",
      "Simone Biles\n",
      "Usain Bolt\n"
     ]
    }
   ],
   "source": [
    "# Snippet 5: Sort sportspersons list alphabetically (bubble sort)\n",
    "\n",
    "def bubbleSort(arr):\n",
    "    for i in range(size - 1):\n",
    "        for j in range(size - 1 - i):\n",
    "            if arr[j] > arr[j + 1]:\n",
    "                arr[j], arr[j + 1] = arr[j + 1], arr[j]\n",
    "\n",
    "bubbleSort(sports)\n",
    "\n",
    "print(\"\\nAfter sorting sportspersons alphabetically:\")\n",
    "for i in range(size):\n",
    "    print(sports[i])\n"
   ]
  },
  {
   "cell_type": "code",
   "execution_count": 6,
   "id": "8a6a4bd7-1276-440c-91b0-cd4e15feb354",
   "metadata": {},
   "outputs": [
    {
     "name": "stdout",
     "output_type": "stream",
     "text": [
      "\n",
      "Even numbers between 20 and 50:\n",
      "20 22 24 26 28 30 32 34 36 38 40 42 44 46 48 50 \n"
     ]
    }
   ],
   "source": [
    "# Snippet 6: Create a list of even numbers between your age and parent's age\n",
    "\n",
    "x = 20  # Your age\n",
    "y = 50  # Parent's age\n",
    "\n",
    "even_numbers = [None] * (y - x + 1)\n",
    "even_size = 0\n",
    "\n",
    "for num in range(x, y + 1):\n",
    "    if num % 2 == 0:\n",
    "        even_numbers[even_size] = num\n",
    "        even_size += 1\n",
    "\n",
    "print(f\"\\nEven numbers between {x} and {y}:\")\n",
    "for i in range(even_size):\n",
    "    print(even_numbers[i], end=\" \")\n",
    "print()\n"
   ]
  },
  {
   "cell_type": "code",
   "execution_count": 7,
   "id": "a2778af8-15cb-4862-8a9e-3f9819906663",
   "metadata": {},
   "outputs": [
    {
     "name": "stdout",
     "output_type": "stream",
     "text": [
      "\n",
      "Sorted sportspersons list again:\n",
      "Katie Ledecky\n",
      "Novak Djokovic\n",
      "Roger Federer\n",
      "Serena Williams\n",
      "Simone Biles\n",
      "Usain Bolt\n"
     ]
    }
   ],
   "source": [
    "# Snippet 7: Sort sportsperson list again (if needed)\n",
    "\n",
    "bubbleSort(sports)\n",
    "\n",
    "print(\"\\nSorted sportspersons list again:\")\n",
    "for i in range(size):\n",
    "    print(sports[i])\n"
   ]
  },
  {
   "cell_type": "code",
   "execution_count": null,
   "id": "20ec2a89-590f-41b8-9af8-d7e4c813bef7",
   "metadata": {},
   "outputs": [],
   "source": []
  }
 ],
 "metadata": {
  "kernelspec": {
   "display_name": "Python 3 (ipykernel)",
   "language": "python",
   "name": "python3"
  },
  "language_info": {
   "codemirror_mode": {
    "name": "ipython",
    "version": 3
   },
   "file_extension": ".py",
   "mimetype": "text/x-python",
   "name": "python",
   "nbconvert_exporter": "python",
   "pygments_lexer": "ipython3",
   "version": "3.12.8"
  }
 },
 "nbformat": 4,
 "nbformat_minor": 5
}
